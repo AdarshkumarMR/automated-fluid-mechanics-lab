{
 "cells": [
  {
   "cell_type": "markdown",
   "metadata": {},
   "source": [
    "# Performance test on pelton wheel\n"
   ]
  },
  {
   "cell_type": "code",
   "execution_count": 2,
   "metadata": {
    "scrolled": true
   },
   "outputs": [
    {
     "name": "stdout",
     "output_type": "stream",
     "text": [
      "radius of breakdrum:0.15\n",
      "co-efficient of discharge of v-notch:0.62\n",
      "angle of v-notch:60\n",
      "speed in rpm:1200\n",
      "delivery pressure:10.5\n",
      "intial hook gauge reading:0\n",
      "final hook gauge reading:0.065\n",
      "load w1:0.981\n",
      "load w2:4.905\n",
      "head is 105.0 m of water\n",
      "discharge is 0.000910883181176013 cubic_m/s\n",
      "input power 0.9382552207703523 kw\n",
      "shaft power 0.07392816 kw\n",
      "efficiency 7.8793230630042705 %\n",
      "unit speed 117.10800875382398\n",
      "unit discharge 8.889309629572631e-05\n",
      "unit power 6.871094927328651e-05\n",
      "specific speed 0.9707325017911184\n"
     ]
    }
   ],
   "source": [
    "#observations\n",
    "import math\n",
    "r_bd = float(input(\"radius of breakdrum:\"))\n",
    "co_di = float(input(\"co-efficient of discharge of v-notch:\"))\n",
    "angle = int(input(\"angle of v-notch:\"))\n",
    "#constant speed readings\n",
    "speed_1 = float(input(\"speed in rpm:\"))\n",
    "del_pre_1 = float(input(\"delivery pressure:\"))\n",
    "hg_ir_1 = float(input(\"intial hook gauge reading:\"))\n",
    "hg_fr_1 = float(input(\"final hook gauge reading:\"))\n",
    "lo_w1_1 = float(input(\"load w1:\"))\n",
    "lo_w2_1 = float(input(\"load w2:\"))\n",
    "d = angle/2\n",
    "h1 = (10*del_pre_1)\n",
    "q1 = co_di*(8/15)*math.tan(math.radians(d))*math.sqrt(2*9.81*hg_fr_1**(5))\n",
    "p_in_1 = (1000*9.81*q1*h1)/1000\n",
    "p_op_1 = (2*3.14*speed_1*(lo_w2_1 - lo_w1_1)*r_bd)/(60*1000)\n",
    "ef_1 = (p_op_1/p_in_1)*100\n",
    "un_sp_1 = speed_1/(math.sqrt(h1))\n",
    "un_di_1 = q1/(math.sqrt(h1))\n",
    "un_po_1 = p_op_1/(math.sqrt(h1**3))\n",
    "spe_sp_1 = (speed_1*math.sqrt(p_op_1))/(h1**(5/4))\n",
    "print(\"head is\",h1,\"m of water\")\n",
    "print(\"discharge is\",q1,\"cubic_m/s\")\n",
    "print(\"input power\",p_in_1,\"kw\")\n",
    "print(\"shaft power\",p_op_1,\"kw\")\n",
    "print(\"efficiency\",ef_1,\"%\")\n",
    "print(\"unit speed\",un_sp_1)\n",
    "print(\"unit discharge\",un_di_1)\n",
    "print(\"unit power\",un_po_1)\n",
    "print(\"specific speed\",spe_sp_1)\n",
    "\n",
    "\n",
    "#0.15,0.62,60,1200,10.5,0,0.065,0.981,4.905,\n"
   ]
  },
  {
   "cell_type": "code",
   "execution_count": 3,
   "metadata": {},
   "outputs": [
    {
     "name": "stdout",
     "output_type": "stream",
     "text": [
      "speed in rpm:1200\n",
      "delivery pressure:10\n",
      "intial hook gauge reading:0\n",
      "final hook gauge reading:0.075\n",
      "load w1:1.962\n",
      "load w2:17.65\n",
      "head is 100.0 m of water\n",
      "discharge is 0.0013026641163400487 cubic_m/s\n",
      "input power 1.2779134981295877 kw\n",
      "shaft power 0.29556192 kw\n",
      "efficiency 23.128476257007836 %\n",
      "unit speed 120.0\n",
      "unit discharge 9.10883181176013e-05\n",
      "unit power 0.00029556191999999997\n",
      "specific speed 2.0630297254281142\n"
     ]
    }
   ],
   "source": [
    "## second trail\n",
    "speed_2 = float(input(\"speed in rpm:\"))\n",
    "del_pre_2 = float(input(\"delivery pressure:\"))\n",
    "hg_ir_2 = float(input(\"intial hook gauge reading:\"))\n",
    "hg_fr_2 = float(input(\"final hook gauge reading:\"))\n",
    "lo_w1_2 = float(input(\"load w1:\"))\n",
    "lo_w2_2 = float(input(\"load w2:\"))\n",
    "d = angle/2\n",
    "h2 = (10*del_pre_2)\n",
    "q2 = co_di*(8/15)*math.tan(math.radians(d))*math.sqrt(2*9.81*hg_fr_2**(5))\n",
    "p_in_2 = (1000*9.81*q2*h2)/1000\n",
    "p_op_2 = (2*3.14*speed_1*(lo_w2_2 - lo_w1_2)*r_bd)/(60*1000)\n",
    "ef_2 = (p_op_2/p_in_2)*100\n",
    "un_sp_2 = speed_2/(math.sqrt(h2))\n",
    "un_di_2 = q1/(math.sqrt(h2))\n",
    "un_po_2 = p_op_2/(math.sqrt(h2**3))\n",
    "spe_sp_2 = (speed_2*math.sqrt(p_op_2))/(h2**(5/4))\n",
    "print(\"head is\",h2,\"m of water\")\n",
    "print(\"discharge is\",q2,\"cubic_m/s\")\n",
    "print(\"input power\",p_in_2,\"kw\")\n",
    "print(\"shaft power\",p_op_2,\"kw\")\n",
    "print(\"efficiency\",ef_2,\"%\")\n",
    "print(\"unit speed\",un_sp_2)\n",
    "print(\"unit discharge\",un_di_2)\n",
    "print(\"unit power\",un_po_2)\n",
    "print(\"specific speed\",spe_sp_2)\n",
    "\n",
    "\n",
    "#1200,10,0,0.075,1.962,17.65"
   ]
  },
  {
   "cell_type": "code",
   "execution_count": 4,
   "metadata": {},
   "outputs": [
    {
     "name": "stdout",
     "output_type": "stream",
     "text": [
      "speed in rpm:1200\n",
      "delivery pressure:10\n",
      "intial hook gauge reading:0\n",
      "final hook gauge reading:0.080\n",
      "load w1:2.943\n",
      "load w2:20.6\n",
      "head is 100.0 m of water\n",
      "discharge is 0.0015307499681676735 cubic_m/s\n",
      "input power 1.5016657187724878 kw\n",
      "shaft power 0.33265788 kw\n",
      "efficiency 22.152592007755615 %\n",
      "unit speed 120.0\n",
      "unit discharge 9.10883181176013e-05\n",
      "unit power 0.00033265788\n",
      "specific speed 2.188669338205294\n"
     ]
    }
   ],
   "source": [
    "## third trail\n",
    "speed_3 = float(input(\"speed in rpm:\"))\n",
    "del_pre_3 = float(input(\"delivery pressure:\"))\n",
    "hg_ir_3 = float(input(\"intial hook gauge reading:\"))\n",
    "hg_fr_3 = float(input(\"final hook gauge reading:\"))\n",
    "lo_w1_3 = float(input(\"load w1:\"))\n",
    "lo_w2_3 = float(input(\"load w2:\"))\n",
    "d = angle/2\n",
    "h3 = (10*del_pre_3)\n",
    "q3 = co_di*(8/15)*math.tan(math.radians(d))*math.sqrt(2*9.81*hg_fr_3**(5))\n",
    "p_in_3 = (1000*9.81*q3*h3)/1000\n",
    "p_op_3 = (2*3.14*speed_3*(lo_w2_3 - lo_w1_3)*r_bd)/(60*1000)\n",
    "ef_3 = (p_op_3/p_in_3)*100\n",
    "un_sp_3 = speed_2/(math.sqrt(h3))\n",
    "un_di_3 = q1/(math.sqrt(h3))\n",
    "un_po_3 = p_op_3/(math.sqrt(h3**3))\n",
    "spe_sp_3 = (speed_3*math.sqrt(p_op_3))/(h3**(5/4))\n",
    "print(\"head is\",h3,\"m of water\")\n",
    "print(\"discharge is\",q3,\"cubic_m/s\")\n",
    "print(\"input power\",p_in_3,\"kw\")\n",
    "print(\"shaft power\",p_op_3,\"kw\")\n",
    "print(\"efficiency\",ef_3,\"%\")\n",
    "print(\"unit speed\",un_sp_3)\n",
    "print(\"unit discharge\",un_di_3)\n",
    "print(\"unit power\",un_po_3)\n",
    "print(\"specific speed\",spe_sp_3)\n",
    "\n",
    "\n",
    "#1200,10,0,0.080,2.943,20.6\n"
   ]
  },
  {
   "cell_type": "code",
   "execution_count": 5,
   "metadata": {},
   "outputs": [
    {
     "name": "stdout",
     "output_type": "stream",
     "text": [
      "head [105.0, 100.0, 100.0]\n"
     ]
    }
   ],
   "source": [
    "he = []\n",
    "he.append(h1)\n",
    "he.append(h2)\n",
    "he.append(h3)\n",
    "\n",
    "print(\"head\",he)"
   ]
  },
  {
   "cell_type": "code",
   "execution_count": 6,
   "metadata": {},
   "outputs": [
    {
     "name": "stdout",
     "output_type": "stream",
     "text": [
      "discharge [0.000910883181176013, 0.0013026641163400487, 0.0015307499681676735]\n",
      "power input [0.9382552207703523, 1.2779134981295877, 1.5016657187724878]\n",
      " \n",
      "power output [0.07392816, 0.29556192, 0.33265788]\n",
      " \n",
      "efficiency [7.8793230630042705, 23.128476257007836, 22.152592007755615]\n",
      " \n",
      "unit speed [117.10800875382398, 120.0, 120.0]\n",
      " \n",
      "unit discharge [8.889309629572631e-05, 9.10883181176013e-05, 9.10883181176013e-05]\n",
      " \n",
      "unit power [6.871094927328651e-05, 0.00029556191999999997, 0.00033265788]\n",
      " \n",
      "specific speed [0.9707325017911184, 2.0630297254281142, 2.188669338205294]\n"
     ]
    }
   ],
   "source": [
    "disc = []\n",
    "disc.append(q1)\n",
    "disc.append(q2)\n",
    "disc.append(q3)\n",
    "print(\"discharge\",disc)\n",
    "\n",
    "pin = []\n",
    "pin.append(p_in_1)\n",
    "pin.append(p_in_2)\n",
    "pin.append(p_in_3)\n",
    "print(\"power input\",pin)\n",
    "print(\" \")\n",
    "\n",
    "pop = []\n",
    "pop.append(p_op_1)\n",
    "pop.append(p_op_2)\n",
    "pop.append(p_op_3)\n",
    "print(\"power output\",pop)\n",
    "print(\" \")\n",
    "\n",
    "ef = []\n",
    "ef.append(ef_1)\n",
    "ef.append(ef_2)\n",
    "ef.append(ef_3)\n",
    "print(\"efficiency\",ef)\n",
    "print(\" \")\n",
    "\n",
    "uns = []\n",
    "uns.append(un_sp_1)\n",
    "uns.append(un_sp_2)\n",
    "uns.append(un_sp_3)\n",
    "print(\"unit speed\",uns)\n",
    "print(\" \")\n",
    "\n",
    "und = []\n",
    "und.append(un_di_1)\n",
    "und.append(un_di_2)\n",
    "und.append(un_di_3)\n",
    "print(\"unit discharge\",und)\n",
    "print(\" \")\n",
    "\n",
    "unp = []\n",
    "unp.append(un_po_1)\n",
    "unp.append(un_po_2)\n",
    "unp.append(un_po_3)\n",
    "print(\"unit power\",unp)\n",
    "print(\" \")\n",
    "\n",
    "sp = []\n",
    "sp.append(spe_sp_1)\n",
    "sp.append(spe_sp_2)\n",
    "sp.append(spe_sp_3)\n",
    "print(\"specific speed\",sp)\n",
    "\n"
   ]
  },
  {
   "cell_type": "code",
   "execution_count": null,
   "metadata": {},
   "outputs": [],
   "source": []
  },
  {
   "cell_type": "code",
   "execution_count": 7,
   "metadata": {},
   "outputs": [
    {
     "data": {
      "image/png": "[encoded data removed]",
      "text/plain": [
       "<Figure size 432x288 with 1 Axes>"
      ]
     },
     "metadata": {},
     "output_type": "display_data"
    }
   ],
   "source": [
    "%matplotlib inline\n",
    "from matplotlib import pyplot as pit\n",
    "from matplotlib import style\n",
    "style.use(\"ggplot\")\n",
    "pit.plot(uns,ef,'g',label = 'line',linewidth = 3)\n",
    "pit.title(\"info\")\n",
    "pit.xlabel(\"unit speed\")\n",
    "pit.xlim(117,120)\n",
    "pit.ylim(0,50)\n",
    "pit.ylabel(\"efficiency\")\n",
    "pit.legend()\n",
    "\n",
    "pit.show()\n"
   ]
  },
  {
   "cell_type": "code",
   "execution_count": 8,
   "metadata": {},
   "outputs": [
    {
     "data": {
      "image/png": "[encoded data removed]",
      "text/plain": [
       "<Figure size 432x288 with 1 Axes>"
      ]
     },
     "metadata": {},
     "output_type": "display_data"
    }
   ],
   "source": [
    "%matplotlib inline\n",
    "from matplotlib import pyplot as pit\n",
    "from matplotlib import style\n",
    "style.use(\"ggplot\")\n",
    "pit.plot(uns,und,'g',label = 'line',linewidth = 3)\n",
    "pit.title(\"info\")\n",
    "pit.xlabel(\"unit speed\")\n",
    "pit.ylabel(\"unit discharge\")\n",
    "pit.legend()\n",
    "pit.show()\n"
   ]
  },
  {
   "cell_type": "code",
   "execution_count": 9,
   "metadata": {},
   "outputs": [
    {
     "data": {
      "image/png": "[encoded data removed]",
      "text/plain": [
       "<Figure size 432x288 with 1 Axes>"
      ]
     },
     "metadata": {},
     "output_type": "display_data"
    }
   ],
   "source": [
    "%matplotlib inline\n",
    "from matplotlib import pyplot as pit\n",
    "from matplotlib import style\n",
    "style.use(\"ggplot\")\n",
    "pit.plot(uns,unp,'g',label = 'line',linewidth = 3)\n",
    "pit.title(\"info\")\n",
    "pit.xlabel(\"unit speed\")\n",
    "pit.ylabel(\"unit power\")\n",
    "pit.legend()\n",
    "pit.show()\n"
   ]
  },
  {
   "cell_type": "code",
   "execution_count": 10,
   "metadata": {},
   "outputs": [
    {
     "data": {
      "text/plain": [
       "(0, 25.478222047689062)"
      ]
     },
     "execution_count": 10,
     "metadata": {},
     "output_type": "execute_result"
    },
    {
     "data": {
      "image/png": "[encoded data removed]",
      "text/plain": [
       "<Figure size 432x288 with 1 Axes>"
      ]
     },
     "metadata": {},
     "output_type": "display_data"
    }
   ],
   "source": [
    "import seaborn as sns\n",
    "sns.regplot(uns,ef)\n",
    "pit.ylim(0,)\n"
   ]
  },
  {
   "cell_type": "code",
   "execution_count": 11,
   "metadata": {},
   "outputs": [
    {
     "name": "stdout",
     "output_type": "stream",
     "text": [
      "[105.0, 0.000910883181176013, 0.9382552207703523, 0.07392816, 7.8793230630042705, 117.10800875382398, 8.889309629572631e-05, 6.871094927328651e-05, 0.9707325017911184]\n",
      "[100.0, 0.0013026641163400487, 1.2779134981295877, 0.29556192, 23.128476257007836, 120.0, 9.10883181176013e-05, 0.00029556191999999997, 2.0630297254281142]\n",
      "[100.0, 0.0015307499681676735, 1.5016657187724878, 0.33265788, 22.152592007755615, 120.0, 9.10883181176013e-05, 0.00033265788, 2.188669338205294]\n"
     ]
    }
   ],
   "source": [
    "hhg = []\n",
    "hhg.append(h1)\n",
    "hhg.append(q1)\n",
    "hhg.append(p_in_1)\n",
    "hhg.append(p_op_1)\n",
    "hhg.append(ef_1)\n",
    "hhg.append(un_sp_1)\n",
    "hhg.append(un_di_1)\n",
    "hhg.append(un_po_1)\n",
    "hhg.append(spe_sp_1)\n",
    "print(hhg)\n",
    "\n",
    "hhl = []\n",
    "hhl.append(h2)\n",
    "hhl.append(q2)\n",
    "hhl.append(p_in_2)\n",
    "hhl.append(p_op_2)\n",
    "hhl.append(ef_2)\n",
    "hhl.append(un_sp_2)\n",
    "hhl.append(un_di_2)\n",
    "hhl.append(un_po_2)\n",
    "hhl.append(spe_sp_2)\n",
    "print(hhl)\n",
    "\n",
    "hhz = []\n",
    "hhz.append(h3)\n",
    "hhz.append(q3)\n",
    "hhz.append(p_in_3)\n",
    "hhz.append(p_op_3)\n",
    "hhz.append(ef_3)\n",
    "hhz.append(un_sp_3)\n",
    "hhz.append(un_di_3)\n",
    "hhz.append(un_po_3)\n",
    "hhz.append(spe_sp_3)\n",
    "print(hhz)"
   ]
  },
  {
   "cell_type": "code",
   "execution_count": 12,
   "metadata": {},
   "outputs": [
    {
     "name": "stdout",
     "output_type": "stream",
     "text": [
      "[[105.0, 0.000910883181176013, 0.9382552207703523, 0.07392816, 7.8793230630042705, 117.10800875382398, 8.889309629572631e-05, 6.871094927328651e-05, 0.9707325017911184], [100.0, 0.0013026641163400487, 1.2779134981295877, 0.29556192, 23.128476257007836, 120.0, 9.10883181176013e-05, 0.00029556191999999997, 2.0630297254281142], [100.0, 0.0015307499681676735, 1.5016657187724878, 0.33265788, 22.152592007755615, 120.0, 9.10883181176013e-05, 0.00033265788, 2.188669338205294]]\n"
     ]
    }
   ],
   "source": [
    "arr = []\n",
    "arr.append(hhg)\n",
    "arr.append(hhl)\n",
    "arr.append(hhz)\n",
    "\n",
    "print(arr)"
   ]
  },
  {
   "cell_type": "code",
   "execution_count": 13,
   "metadata": {},
   "outputs": [
    {
     "data": {
      "text/html": [
       "<div>\n",
       "<style scoped>\n",
       "    .dataframe tbody tr th:only-of-type {\n",
       "        vertical-align: middle;\n",
       "    }\n",
       "\n",
       "    .dataframe tbody tr th {\n",
       "        vertical-align: top;\n",
       "    }\n",
       "\n",
       "    .dataframe thead th {\n",
       "        text-align: right;\n",
       "    }\n",
       "</style>\n",
       "<table border=\"1\" class=\"dataframe\">\n",
       "  <thead>\n",
       "    <tr style=\"text-align: right;\">\n",
       "      <th></th>\n",
       "      <th>0</th>\n",
       "      <th>1</th>\n",
       "      <th>2</th>\n",
       "      <th>3</th>\n",
       "      <th>4</th>\n",
       "      <th>5</th>\n",
       "      <th>6</th>\n",
       "      <th>7</th>\n",
       "      <th>8</th>\n",
       "    </tr>\n",
       "  </thead>\n",
       "  <tbody>\n",
       "    <tr>\n",
       "      <td>0</td>\n",
       "      <td>105.0</td>\n",
       "      <td>0.000911</td>\n",
       "      <td>0.938255</td>\n",
       "      <td>0.073928</td>\n",
       "      <td>7.879323</td>\n",
       "      <td>117.108009</td>\n",
       "      <td>0.000089</td>\n",
       "      <td>0.000069</td>\n",
       "      <td>0.970733</td>\n",
       "    </tr>\n",
       "    <tr>\n",
       "      <td>1</td>\n",
       "      <td>100.0</td>\n",
       "      <td>0.001303</td>\n",
       "      <td>1.277913</td>\n",
       "      <td>0.295562</td>\n",
       "      <td>23.128476</td>\n",
       "      <td>120.000000</td>\n",
       "      <td>0.000091</td>\n",
       "      <td>0.000296</td>\n",
       "      <td>2.063030</td>\n",
       "    </tr>\n",
       "    <tr>\n",
       "      <td>2</td>\n",
       "      <td>100.0</td>\n",
       "      <td>0.001531</td>\n",
       "      <td>1.501666</td>\n",
       "      <td>0.332658</td>\n",
       "      <td>22.152592</td>\n",
       "      <td>120.000000</td>\n",
       "      <td>0.000091</td>\n",
       "      <td>0.000333</td>\n",
       "      <td>2.188669</td>\n",
       "    </tr>\n",
       "  </tbody>\n",
       "</table>\n",
       "</div>"
      ],
      "text/plain": [
       "       0         1         2         3          4           5         6  \\\n",
       "0  105.0  0.000911  0.938255  0.073928   7.879323  117.108009  0.000089   \n",
       "1  100.0  0.001303  1.277913  0.295562  23.128476  120.000000  0.000091   \n",
       "2  100.0  0.001531  1.501666  0.332658  22.152592  120.000000  0.000091   \n",
       "\n",
       "          7         8  \n",
       "0  0.000069  0.970733  \n",
       "1  0.000296  2.063030  \n",
       "2  0.000333  2.188669  "
      ]
     },
     "execution_count": 13,
     "metadata": {},
     "output_type": "execute_result"
    }
   ],
   "source": [
    "import pandas as pd\n",
    "df = pd.DataFrame(arr)\n",
    "\n",
    "df.head(9)"
   ]
  },
  {
   "cell_type": "code",
   "execution_count": 14,
   "metadata": {},
   "outputs": [],
   "source": [
    "csv_data = df.to_csv(index = False)"
   ]
  },
  {
   "cell_type": "code",
   "execution_count": 15,
   "metadata": {},
   "outputs": [],
   "source": [
    "df.to_csv(\"peltonresult2.csv\",index = False)"
   ]
  },
  {
   "cell_type": "code",
   "execution_count": 16,
   "metadata": {},
   "outputs": [
    {
     "data": {
      "text/html": [
       "<div>\n",
       "<style scoped>\n",
       "    .dataframe tbody tr th:only-of-type {\n",
       "        vertical-align: middle;\n",
       "    }\n",
       "\n",
       "    .dataframe tbody tr th {\n",
       "        vertical-align: top;\n",
       "    }\n",
       "\n",
       "    .dataframe thead th {\n",
       "        text-align: right;\n",
       "    }\n",
       "</style>\n",
       "<table border=\"1\" class=\"dataframe\">\n",
       "  <thead>\n",
       "    <tr style=\"text-align: right;\">\n",
       "      <th></th>\n",
       "      <th>head</th>\n",
       "      <th>discharge</th>\n",
       "      <th>input power</th>\n",
       "      <th>shaft power</th>\n",
       "      <th>efficiency</th>\n",
       "      <th>unit speed</th>\n",
       "      <th>unit discharge</th>\n",
       "      <th>unit power</th>\n",
       "      <th>specific speed</th>\n",
       "    </tr>\n",
       "  </thead>\n",
       "  <tbody>\n",
       "    <tr>\n",
       "      <td>0</td>\n",
       "      <td>0.0</td>\n",
       "      <td>1.000000</td>\n",
       "      <td>2.000000</td>\n",
       "      <td>3.000000</td>\n",
       "      <td>4.000000</td>\n",
       "      <td>5.000000</td>\n",
       "      <td>6.000000</td>\n",
       "      <td>7.000000</td>\n",
       "      <td>8.000000</td>\n",
       "    </tr>\n",
       "    <tr>\n",
       "      <td>1</td>\n",
       "      <td>105.0</td>\n",
       "      <td>0.000777</td>\n",
       "      <td>0.800502</td>\n",
       "      <td>0.073928</td>\n",
       "      <td>9.235230</td>\n",
       "      <td>117.108009</td>\n",
       "      <td>0.000076</td>\n",
       "      <td>0.000069</td>\n",
       "      <td>0.970733</td>\n",
       "    </tr>\n",
       "    <tr>\n",
       "      <td>2</td>\n",
       "      <td>102.5</td>\n",
       "      <td>0.001096</td>\n",
       "      <td>1.102344</td>\n",
       "      <td>0.240267</td>\n",
       "      <td>21.795960</td>\n",
       "      <td>118.527552</td>\n",
       "      <td>0.000077</td>\n",
       "      <td>0.000232</td>\n",
       "      <td>1.803529</td>\n",
       "    </tr>\n",
       "    <tr>\n",
       "      <td>3</td>\n",
       "      <td>100.0</td>\n",
       "      <td>0.001437</td>\n",
       "      <td>1.409564</td>\n",
       "      <td>0.425087</td>\n",
       "      <td>30.157333</td>\n",
       "      <td>120.000000</td>\n",
       "      <td>0.000078</td>\n",
       "      <td>0.000425</td>\n",
       "      <td>2.474116</td>\n",
       "    </tr>\n",
       "  </tbody>\n",
       "</table>\n",
       "</div>"
      ],
      "text/plain": [
       "    head  discharge  input power  shaft power  efficiency  unit speed  \\\n",
       "0    0.0   1.000000     2.000000     3.000000    4.000000    5.000000   \n",
       "1  105.0   0.000777     0.800502     0.073928    9.235230  117.108009   \n",
       "2  102.5   0.001096     1.102344     0.240267   21.795960  118.527552   \n",
       "3  100.0   0.001437     1.409564     0.425087   30.157333  120.000000   \n",
       "\n",
       "   unit discharge  unit power  specific speed  \n",
       "0        6.000000    7.000000        8.000000  \n",
       "1        0.000076    0.000069        0.970733  \n",
       "2        0.000077    0.000232        1.803529  \n",
       "3        0.000078    0.000425        2.474116  "
      ]
     },
     "execution_count": 16,
     "metadata": {},
     "output_type": "execute_result"
    }
   ],
   "source": [
    "headers = [\"head\",\"discharge\",\"input power\",\"shaft power\",\"efficiency\",\"unit speed\",\"unit discharge\",\"unit power\",\"specific speed\"]\n",
    "df = pd.read_csv(r\"C:\\Users\\user\\datasets\\peltonresult2.csv\",encoding = \"ISO-8859-1\",names = headers)\n",
    "df.head(9)"
   ]
  },
  {
   "cell_type": "code",
   "execution_count": null,
   "metadata": {},
   "outputs": [],
   "source": []
  }
 ],
 "metadata": {
  "kernelspec": {
   "display_name": "Python 3",
   "language": "python",
   "name": "python3"
  },
  "language_info": {
   "codemirror_mode": {
    "name": "ipython",
    "version": 3
   },
   "file_extension": ".py",
   "mimetype": "text/x-python",
   "name": "python",
   "nbconvert_exporter": "python",
   "pygments_lexer": "ipython3",
   "version": "3.7.4"
  }
 },
 "nbformat": 4,
 "nbformat_minor": 2
}
